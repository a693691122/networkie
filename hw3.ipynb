{
 "cells": [
  {
   "cell_type": "code",
   "execution_count": 4,
   "metadata": {},
   "outputs": [
    {
     "name": "stdout",
     "output_type": "stream",
     "text": [
      "0.04\n",
      "[0, 1, 3, 0, 6, 3, 3, 5, 2, 8, 0, 0, 5, 4, 0, 4, 0, 0, 4, 4, 3, 0, 0, 1, 3, 3, 1, 0, 1, 1, 2, 3, 0, 5, 0, 3, 1, 3, 0, 1, 0, 4, 0, 2, 1, 2, 0, 3, 3, 5, 1, 2, 1, 3, 1, 1, 2, 1, 1, 0, 1, 0, 1, 0, 2, 1, 1, 2, 1, 4, 6, 1, 1, 3, 1]\n",
      "52\n"
     ]
    },
    {
     "name": "stderr",
     "output_type": "stream",
     "text": [
      "C:\\Users\\a6936\\Anaconda3\\lib\\site-packages\\ipykernel_launcher.py:11: SettingWithCopyWarning: \n",
      "A value is trying to be set on a copy of a slice from a DataFrame\n",
      "\n",
      "See the caveats in the documentation: http://pandas.pydata.org/pandas-docs/stable/indexing.html#indexing-view-versus-copy\n",
      "  # This is added back by InteractiveShellApp.init_path()\n"
     ]
    }
   ],
   "source": [
    "import networkx as nx\n",
    "import pandas as pd\n",
    "import matplotlib.pyplot as plt\n",
    "from itertools import combinations as combos\n",
    "'''-----------import packages-----------'''\n",
    "\n",
    "'''-----------read graph from txt file-----------'''\n",
    "g = nx.Graph() # initialize a graph g\n",
    "df = pd.read_csv('In-class_network.txt',delimiter=\"\\t\") # using pandas's DataFrame to store the info of graph.\n",
    "df.drop(df.columns[6],axis=1,inplace=True) # drop the last column coming from nowhere.\n",
    "df['IDs-of-acquaintances'][df['IDs-of-acquaintances'] == ' '] = '999' # set the absent value in 'IDs-of-acquaintances' to be '999'.\n",
    "\n",
    "'''-----------making dict for nodes & edges-----------'''\n",
    "d = df.set_index('ID')['IDs-of-acquaintances'].to_dict() # combine 'ID' and 'IDs-of-acquaintances' and form a dict.\n",
    "d = {k: v.split(',') for k, v in d.items()} # change the value from string to list.\n",
    "d = {k: [int(i) for i in v] for k, v in d.items()} # change the value from string to integer.\n",
    "\n",
    "for k, v in d.items():\n",
    "    g.add_edges_from(([(k, t) for t in v])) # adding edges for graph g.\n",
    "g.remove_node(999)\n",
    "\n",
    "'''-----------answers to problem 3-b-----------'''\n",
    "print(g.number_of_nodes()) # P3-b-i\n",
    "print(g.number_of_edges()) # P3-b-ii\n",
    "print(nx.average_degree_connectivity(g)) # P3-b-iii\n",
    "print(nx.average_shortest_path_length(g)) # P3-b-iv\n",
    "\n",
    "Gc = max(nx.connected_component_subgraphs(g), key=len) # P3-b-v\n",
    "nx.draw(Gc,with_labels=True)\n",
    "plt.draw()\n",
    "plt.show()\n",
    "\n",
    "'''-----------answers to problem 3-c-----------'''\n",
    "g2 = nx.complete_graph(76)\n",
    "emax = g2.number_of_edges()\n",
    "e = g.number_of_edges()\n",
    "\n",
    "print(e/emax)\n",
    "\n",
    "'''-----------answers to problem 3-d-----------'''\n",
    "d2 = nx.to_dict_of_lists(g)\n",
    "deg_list=[0] * 75\n",
    "for k, v in d2.items():\n",
    "    deg_list[k] = len(v)\n",
    "print(deg_list)\n",
    "\n",
    "'''-----------answers to problem 3-e-----------'''\n",
    "\n",
    "triple_iter = ((n, nbr, nbr2) for n in g for nbr, nbr2 in combos(g[n],2) if nbr in g[nbr2])\n",
    "triangles = set(frozenset(tri) for tri in triple_iter)\n",
    "print(len(triangles))"
   ]
  }
 ],
 "metadata": {
  "kernelspec": {
   "display_name": "Python 3",
   "language": "python",
   "name": "python3"
  },
  "language_info": {
   "codemirror_mode": {
    "name": "ipython",
    "version": 3
   },
   "file_extension": ".py",
   "mimetype": "text/x-python",
   "name": "python",
   "nbconvert_exporter": "python",
   "pygments_lexer": "ipython3",
   "version": "3.6.4"
  }
 },
 "nbformat": 4,
 "nbformat_minor": 2
}
